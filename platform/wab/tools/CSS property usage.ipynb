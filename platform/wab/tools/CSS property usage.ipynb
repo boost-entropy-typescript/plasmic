{
 "cells": [
  {
   "cell_type": "code",
   "execution_count": 2,
   "metadata": {},
   "outputs": [],
   "source": [
    "import re, collections as col"
   ]
  },
  {
   "cell_type": "code",
   "execution_count": 8,
   "metadata": {},
   "outputs": [
    {
     "data": {
      "text/plain": [
       "[('display', 153),\n",
       " ('width', 128),\n",
       " ('height', 114),\n",
       " ('background', 83),\n",
       " ('position', 69),\n",
       " ('padding', 59),\n",
       " ('color', 54),\n",
       " ('cursor', 46),\n",
       " ('text-align', 32),\n",
       " ('margin', 32),\n",
       " ('border', 31),\n",
       " ('vertical-align', 28),\n",
       " ('top', 27),\n",
       " ('font-size', 26),\n",
       " ('flex-direction', 26),\n",
       " ('margin-right', 24),\n",
       " ('flex', 23),\n",
       " ('margin-bottom', 20),\n",
       " ('background-color', 20),\n",
       " ('font-weight', 19),\n",
       " ('left', 19),\n",
       " ('pointer-events', 18),\n",
       " ('align-items', 17),\n",
       " ('margin-top', 15),\n",
       " ('border-bottom', 14),\n",
       " ('padding-left', 13),\n",
       " ('margin-left', 12),\n",
       " ('fill', 12),\n",
       " ('z-index', 11),\n",
       " ('overflow', 10),\n",
       " ('line-height', 10),\n",
       " ('justify-content', 10),\n",
       " ('content', 9),\n",
       " ('float', 9),\n",
       " ('right', 8),\n",
       " ('padding-top', 8),\n",
       " ('white-space', 8),\n",
       " ('opacity', 7),\n",
       " ('font-style', 7),\n",
       " ('overflow-y', 7),\n",
       " ('border-radius', 7),\n",
       " ('box-shadow', 7),\n",
       " ('bottom', 7),\n",
       " ('text-transform', 7),\n",
       " ('transform', 6),\n",
       " ('border-top', 6),\n",
       " ('font-family', 6),\n",
       " ('padding-right', 5),\n",
       " ('padding-bottom', 5),\n",
       " ('border-left', 5),\n",
       " ('border-top-color', 4),\n",
       " ('background-image', 4),\n",
       " ('stroke', 4),\n",
       " ('text-decoration', 4),\n",
       " ('flex-shrink', 4),\n",
       " ('border-right', 3),\n",
       " ('stroke-width', 3),\n",
       " ('background-size', 3),\n",
       " ('text-overflow', 3),\n",
       " ('border-spacing', 3),\n",
       " ('clear', 3),\n",
       " ('list-style', 2),\n",
       " ('min-height', 2),\n",
       " ('border-left-color', 2),\n",
       " ('grid-template-rows', 2),\n",
       " ('min-width', 2),\n",
       " ('filter', 2),\n",
       " ('flex-wrap', 2),\n",
       " ('visibility', 2),\n",
       " ('overflow-x', 2),\n",
       " ('max-width', 2),\n",
       " ('border-color', 2),\n",
       " ('background-position', 2),\n",
       " ('grid-template-columns', 2),\n",
       " ('transition', 2),\n",
       " ('user-select', 1),\n",
       " ('border-collapse', 1),\n",
       " ('max-height', 1),\n",
       " ('border-width', 1),\n",
       " ('table-layout', 1),\n",
       " ('flex-grow', 1),\n",
       " ('list-style-type', 1),\n",
       " ('align', 1),\n",
       " ('outline', 1),\n",
       " ('justify-items', 1)]"
      ]
     },
     "execution_count": 8,
     "metadata": {},
     "output_type": "execute_result"
    }
   ],
   "source": [
    "contents = open('./sass/main.sass').read()\n",
    "ctr = col.Counter(m.group(1) for m in re.finditer(r'^\\s+([\\w\\d-]+): .+', contents, flags=re.MULTILINE))\n",
    "ctr.most_common()"
   ]
  },
  {
   "cell_type": "code",
   "execution_count": null,
   "metadata": {},
   "outputs": [],
   "source": []
  }
 ],
 "metadata": {
  "kernelspec": {
   "display_name": "Python 2",
   "language": "python",
   "name": "python2"
  },
  "language_info": {
   "codemirror_mode": {
    "name": "ipython",
    "version": 2
   },
   "file_extension": ".py",
   "mimetype": "text/x-python",
   "name": "python",
   "nbconvert_exporter": "python",
   "pygments_lexer": "ipython2",
   "version": "2.7.15"
  }
 },
 "nbformat": 4,
 "nbformat_minor": 2
}
